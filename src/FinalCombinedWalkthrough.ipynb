{
 "cells": [
  {
   "cell_type": "markdown",
   "id": "7167e03417849a45",
   "metadata": {
    "collapsed": false
   },
   "source": [
    "# Replicating _Intermediary asset pricing: New evidence from many asset classes_"
   ]
  },
  {
   "cell_type": "markdown",
   "id": "9a5f901eac7685d7",
   "metadata": {
    "collapsed": false
   },
   "source": [
    "### Hanlu Ge and Junyuan Liu"
   ]
  },
  {
   "cell_type": "markdown",
   "id": "1bdd05ee",
   "metadata": {},
   "source": [
    "In this Final Project, our main task is to reproduce Table 2 and Table 3 from the paper \"Intermediary asset pricing: New evidence from many asset classes\" and to carry out a series of extension works based on this. Our specific work is divided into the following parts:\n",
    "1. Modify the primary dealer list (ticks.csv) based on real data sources.\n",
    "2. Adjust the calculation methods for key ratios and macroeconomic variables in Table 2 and Table 3 according to the description in the paper.\n",
    "3. Automatically generate and save the reproduced table results as .tex files, and further perform data analysis such as descriptive statistics, correlation analysis, and trend plots of factors.\n",
    "4. Write additional files and implement project automation, such as the notebook, dodo.py, README file, and test files.\n",
    "\n",
    "Through the above work, we have successfully optimized the reproduction based on the reference code, making the reproduced results extremely close to the target results while achieving clear visualization and an automated project workflow."
   ]
  },
  {
   "cell_type": "code",
   "execution_count": null,
   "id": "32e9813b1c239835",
   "metadata": {
    "ExecuteTime": {
     "end_time": "2024-03-10T21:10:49.789477200Z",
     "start_time": "2024-03-10T21:10:49.177208200Z"
    }
   },
   "outputs": [],
   "source": [
    "import load_nyfed\n",
    "load_nyfed.pull_nyfed_primary_dealers_list(load_nyfed.url)\n",
    "\n",
    "import pandas as pd\n",
    "import wrds\n",
    "import config\n",
    "from datetime import datetime\n",
    "import unittest\n",
    "import matplotlib.pyplot as plt\n",
    "import numpy as np\n",
    "import Table02Analysis\n",
    "import Table02Prep\n",
    "\n",
    "import Table03Load\n",
    "import Table03Analysis\n",
    "import Table03\n",
    "\n",
    "import warnings\n",
    "warnings.filterwarnings(\"ignore\", category=FutureWarning)"
   ]
  },
  {
   "cell_type": "markdown",
   "id": "f895e85da21adc86",
   "metadata": {
    "collapsed": false
   },
   "source": [
    "### Table 02"
   ]
  },
  {
   "cell_type": "markdown",
   "id": "dafffb6c5a4c0476",
   "metadata": {
    "collapsed": false
   },
   "source": [
    "The following code reads in a manual data file that contains necessary information on primary dealers from 1960-2012 and then merges it with the CRSP Compustat Merge Linkhist table to get additional information on each, such as the SIC codes. The linkhist table is also used as the main reference table to pull the other comparison groups for the table."
   ]
  },
  {
   "cell_type": "code",
   "execution_count": null,
   "id": "c1e90c4f",
   "metadata": {},
   "outputs": [],
   "source": [
    "db = wrds.Connection(wrds_username=config.WRDS_USERNAME)"
   ]
  },
  {
   "cell_type": "code",
   "execution_count": null,
   "id": "77652583",
   "metadata": {},
   "outputs": [],
   "source": [
    "import importlib\n",
    "importlib.reload(Table02Prep)\n",
    "importlib.reload(config)"
   ]
  },
  {
   "cell_type": "code",
   "execution_count": null,
   "id": "a1dc8d26",
   "metadata": {},
   "outputs": [],
   "source": [
    "prim_dealers = Table02Prep.clean_primary_dealers_data(fname='Primary_Dealer_Link_Table3.csv')\n",
    "link_hist = Table02Prep.load_link_table(fname='updated_linktable.csv')"
   ]
  },
  {
   "cell_type": "markdown",
   "id": "151d0aa64ed934f2",
   "metadata": {
    "collapsed": false
   },
   "source": [
    "As mentioned above, the next step is now to use the linkhist table to determine what the other comparison groups are. We use SIC codes to determine broker dealers and banks, and we make sure to exclude any firms that are already in the primary dealer group so we do not have duplicates. Below is the reference table for broker dealers, which had explicit SIC codes mentioned in the paper - banks did not have explicit SIC codes mentioned and required research."
   ]
  },
  {
   "cell_type": "code",
   "execution_count": null,
   "id": "7cc3d7c0",
   "metadata": {},
   "outputs": [],
   "source": [
    "comparison_group_link_dict = Table02Prep.create_comparison_group_linktables(link_hist, prim_dealers)\n",
    "comparison_group_link_dict['PD']"
   ]
  },
  {
   "cell_type": "markdown",
   "id": "b77e57fb31a1ec53",
   "metadata": {
    "collapsed": false
   },
   "source": [
    "We then used each of the reference tables (primary dealers, broker dealers, banks, all firms in Compustat) and pulled data from the Compustat Fundamentals Quarterly table. The paper mentioned use of monthly data, but there was no apparent monthly table for financial statement data from Compustat. This led to some confusion about how these authors generated their ratios - I am wondering if they computed monthly ratios given what months came out of annual and then took the average."
   ]
  },
  {
   "cell_type": "markdown",
   "id": "3a63590b8ac8469c",
   "metadata": {
    "collapsed": false
   },
   "source": [
    "Below is the dataset for broker dealers. We calculate or directly pull the values we need in our query so we don't need to do it after. It was mentioned in class this was a best practice because it would run on WRDS servers."
   ]
  },
  {
   "cell_type": "code",
   "execution_count": null,
   "id": "bfcf2dca",
   "metadata": {},
   "outputs": [],
   "source": [
    "datasets = Table02Prep.pull_data_for_all_comparison_groups(db, comparison_group_link_dict)\n",
    "datasets['BD']"
   ]
  },
  {
   "cell_type": "markdown",
   "id": "ae7569cd43ed9d01",
   "metadata": {
    "collapsed": false
   },
   "source": [
    "We then prep that data further by aggregating by year and standardizing the date to the first of the year. We also convert the datadate to a datetime column that can be sliced."
   ]
  },
  {
   "cell_type": "code",
   "execution_count": null,
   "id": "3f7f06ff4481980b",
   "metadata": {
    "ExecuteTime": {
     "end_time": "2024-03-10T21:13:48.967255Z",
     "start_time": "2024-03-10T21:13:48.517235400Z"
    }
   },
   "outputs": [],
   "source": [
    "prepped_datasets = Table02Prep.prep_datasets(datasets)\n",
    "prepped_datasets['Banks']"
   ]
  },
  {
   "cell_type": "markdown",
   "id": "cb8e9b1576a4a73d",
   "metadata": {
    "collapsed": false
   },
   "source": [
    "We then weave in some of our analysis into the process, whenever the necessary dataset for the analysis is first available. Below is our main table of ratios, where we have computed the\n",
    "$$\n",
    "\\frac{\\text{Primary dealers amount}}{\\text{Comparison group amount (less PD) + Primary dealers amount}}\n",
    "$$"
   ]
  },
  {
   "cell_type": "code",
   "execution_count": null,
   "id": "a55b31dab7162903",
   "metadata": {
    "ExecuteTime": {
     "end_time": "2024-03-10T21:13:52.592970900Z",
     "start_time": "2024-03-10T21:13:52.267408600Z"
    }
   },
   "outputs": [],
   "source": [
    "Table02Analysis.create_summary_stat_table_for_data(datasets)\n",
    "table = Table02Prep.create_ratios_for_table(prepped_datasets)\n",
    "table"
   ]
  },
  {
   "cell_type": "markdown",
   "id": "7a755a36fa811cb3",
   "metadata": {
    "collapsed": false
   },
   "source": [
    "We create a figure that can give the reader insight into how the ratios have shifted over time for each category and comparison group. We had to clean some of the data and fill null values to have the graph look reasonable but without changing the overall shape of it too dramatically.\n",
    "Lastly, we get our final table which was what we were trying to replicate from the paper. This table is then converted to LaTeX and outputted to a .tex file."
   ]
  },
  {
   "cell_type": "code",
   "execution_count": null,
   "id": "43ea207f26d305f5",
   "metadata": {
    "ExecuteTime": {
     "end_time": "2024-03-10T21:14:14.186976Z",
     "start_time": "2024-03-10T21:14:14.143871200Z"
    }
   },
   "outputs": [],
   "source": [
    "formatted_table = Table02Prep.format_final_table(table)\n",
    "formatted_table"
   ]
  },
  {
   "cell_type": "code",
   "execution_count": null,
   "id": "94520d1ea272da69",
   "metadata": {
    "ExecuteTime": {
     "end_time": "2024-03-10T21:15:29.278858Z",
     "start_time": "2024-03-10T21:14:34.002861600Z"
    }
   },
   "outputs": [],
   "source": [
    "updated_table = Table02Prep.main(UPDATED=True)\n",
    "updated_table"
   ]
  },
  {
   "cell_type": "markdown",
   "id": "bb563be6f6864954",
   "metadata": {
    "collapsed": false
   },
   "source": [
    "### Table 03"
   ]
  },
  {
   "cell_type": "markdown",
   "id": "fedafda0",
   "metadata": {},
   "source": [
    "#### 3.1 Pull the quarterly dataset for primary dealers\n",
    "- Start with the merged data for primary dealers from 'Table02.prim_deal_merge_manual_data_w_linktable'. The resulting dataframe 'prim_dealers' contains the list of gvkey, starting dates, and ending dates for the primary dealers during 1960-2012. \n",
    "- Use the 'fetch_data_for_tickers' function to retrieve the financial data (assets, liabilities, equity(market and book), etc.) for the tickers associated with the primary dealers from the WRDS database. The pulled items are total assets, book debt and equity, and market equity, which are needed for the calculation of market and book capital ratios."
   ]
  },
  {
   "cell_type": "code",
   "execution_count": null,
   "id": "a120d012",
   "metadata": {},
   "outputs": [],
   "source": [
    "import importlib\n",
    "importlib.reload(Table03Load)"
   ]
  },
  {
   "cell_type": "code",
   "execution_count": null,
   "id": "265a3519",
   "metadata": {},
   "outputs": [],
   "source": [
    "db.close()\n",
    "db = wrds.Connection(wrds_username=config.WRDS_USERNAME)\n"
   ]
  },
  {
   "cell_type": "code",
   "execution_count": null,
   "id": "add470d2",
   "metadata": {},
   "outputs": [],
   "source": [
    "# db = wrds.Connection(wrds_username=config.WRDS_USERNAME)\n",
    "#prim_dealers, _ = Table02Prep.prim_deal_merge_manual_data_w_linktable()\n",
    "prim_dealers = Table02Prep.clean_primary_dealers_data(fname='Primary_Dealer_Link_Table3.csv')\n",
    "dataset, _ = Table03Load.fetch_data_for_tickers(prim_dealers, db)    \n",
    "dataset"
   ]
  },
  {
   "cell_type": "markdown",
   "id": "4b570fb0",
   "metadata": {},
   "source": [
    "#### 3.2 Prepare the dealers dataset and macro data \n",
    "- The prep_dataset function cleanses the dataset and integrates broker-dealer financial information from Flow of Funds, which is needed for calculating AEM capital ratios. The resulting prep_datast begins from a year before to 1970 for the subsequent factor and growth rate computations.\n",
    "- The UPDATED parameter controls the source for broker-dealer financial data: False retrieves historical data up to 2012-12-31 from a specific URL, while True  pulls more recent data from FRED.\n",
    "    - historical data link(Released at 2013 March): https://www.federalreserve.gov/releases/z1/20130307/data.htm     \n",
    "    - FRED data link: https://fred.stlouisfed.org/series/BOGZ1FL664090005Q"
   ]
  },
  {
   "cell_type": "code",
   "execution_count": null,
   "id": "36a1b103",
   "metadata": {},
   "outputs": [],
   "source": [
    "import importlib\n",
    "\n",
    "importlib.reload(Table03) "
   ]
  },
  {
   "cell_type": "code",
   "execution_count": null,
   "id": "de7c983a",
   "metadata": {},
   "outputs": [],
   "source": [
    "prep_datast = Table03.prep_dataset(dataset, UPDATED=False)\n",
    "prep_datast"
   ]
  },
  {
   "cell_type": "markdown",
   "id": "d1c8cc61",
   "metadata": {},
   "source": [
    "#### 3.3 Calculate the Capital ratios and factors \n",
    "- The 'aggregate_ratios' function calculates the capital ratios - market capital ratio, book capital ratio, and AEM leverage ratio. The ratio formulas are described as below.\n",
    "- The 'convert_ratios_to_factors' function  transforms the aggregated financial ratios into factors that can be used to analyze their impact on asset prices. The factors are AR(1) innovations to the market-based capital ratio of primary dealers, scaled by the lagged capital ratio.\n",
    "- The resulting ratio_dataset and factors_dataset begin from a year before to 1970 for the subsequent factor and growth rate computations."
   ]
  },
  {
   "cell_type": "markdown",
   "id": "d40b2123",
   "metadata": {},
   "source": [
    "$$\n",
    "\\text{Market Capital Ratio}_t = \\frac{\\text{Market Equity}_t}{\\text{Market Equity}_t + \\text{Book Debt}_t}\n",
    "$$\n",
    "$$\n",
    "\\text{Book Capital Ratio}_t = \\frac{\\text{Book Equity}_t}{\\text{Book Equity}_t + \\text{Book Debt}_t}\n",
    "$$\n",
    "$$\n",
    "\\text{Leverage}_t = \\frac{\\text{Total Financial Assets}_t}{\\text{Total Financial Assets}_t - \\text{Total Liabilities}_t} \\text{,  }\n",
    "\\text{Leverage Implied Capital Ratio}_t = \\frac{1}{\\text{Leverage}_t}\n",
    "$$"
   ]
  },
  {
   "cell_type": "code",
   "execution_count": null,
   "id": "afef85c4",
   "metadata": {},
   "outputs": [],
   "source": [
    "ratio_dataset = Table03.aggregate_ratios(prep_datast)\n",
    "ratio_dataset"
   ]
  },
  {
   "cell_type": "code",
   "execution_count": null,
   "id": "0dfc0ea4",
   "metadata": {},
   "outputs": [],
   "source": [
    "import importlib\n",
    "\n",
    "importlib.reload(Table03) "
   ]
  },
  {
   "cell_type": "code",
   "execution_count": null,
   "id": "8fe8390c",
   "metadata": {},
   "outputs": [],
   "source": [
    "factors_dataset = Table03.convert_ratios_to_factors(ratio_dataset)\n",
    "factors_dataset"
   ]
  },
  {
   "cell_type": "markdown",
   "id": "c45a137f",
   "metadata": {},
   "source": [
    "#### 3.4 Process Macroeconomic Indicators\n",
    "- The 'macro_variables' function fetches and processes macroeconomic indicators such as earnings-to-price ratio, unemployment rate, financial conditions index, Real GDP and GDP growth, market excess returns, market volatility. This dataset is needed for subsequent correlation analyses. The resulting macro_dataset, like the other datasets, begins from a year before to 1970 for the subsequent factor and growth rate computations.\n",
    "    - E/P: Calculated as the inverse of the S&P 500's earnings-to-price ratio from Shiller's dataset, spanning from 1871 to the current month. \n",
    "    - Unemployment rate, Real GDP (level and growth): Derived from FRED and resampled on a quarterly basis. Real GDP growth is computed by comparing quarterly changes.\n",
    "    - Chicago Fed National Financial Conditions Index (NFCI): Sourced from FRED and also resampled quarterly. High level means poor financial conditions. \n",
    "    - Market Excess Returns: Obtained from Fama-French research datasets, focusing on the market return over the risk-free rate, and converted to a quarterly frequency. \n",
    "    - Realized volatility: Calculated from the CRSP value-weighted index by measuring the standard deviation of quarterly returns."
   ]
  },
  {
   "cell_type": "code",
   "execution_count": null,
   "id": "6f1bbc31",
   "metadata": {},
   "outputs": [],
   "source": [
    "import importlib\n",
    "importlib.reload(Table03Load)"
   ]
  },
  {
   "cell_type": "code",
   "execution_count": null,
   "id": "a6506f99",
   "metadata": {},
   "outputs": [],
   "source": [
    "import load_fred\n",
    "import importlib\n",
    "importlib.reload(load_fred)"
   ]
  },
  {
   "cell_type": "code",
   "execution_count": null,
   "id": "8c3ed8be",
   "metadata": {},
   "outputs": [],
   "source": [
    "import importlib\n",
    "\n",
    "importlib.reload(Table03) "
   ]
  },
  {
   "cell_type": "code",
   "execution_count": null,
   "id": "3753dedc",
   "metadata": {},
   "outputs": [],
   "source": [
    "macro_dataset = Table03.macro_variables(db, from_cache=True, UPDATED=True)"
   ]
  },
  {
   "cell_type": "code",
   "execution_count": null,
   "id": "f9d4dabc",
   "metadata": {},
   "outputs": [],
   "source": [
    "macro_dataset = Table03.macro_variables(db, from_cache=True)\n",
    "macro_dataset"
   ]
  },
  {
   "cell_type": "markdown",
   "id": "ceb87a38",
   "metadata": {},
   "source": [
    "#### 3.5 Create Panel data \n",
    "- The 'create_panelA' function creates Panel A and Panel B for Table 03. Panel A focuses on the levels of financial ratios and macroeconomic variables and Panel B delves into the factors derived from the financial ratios and their growth rates."
   ]
  },
  {
   "cell_type": "code",
   "execution_count": null,
   "id": "248e0493",
   "metadata": {},
   "outputs": [],
   "source": [
    "import importlib\n",
    "\n",
    "importlib.reload(Table03) "
   ]
  },
  {
   "cell_type": "code",
   "execution_count": null,
   "id": "3b59c105",
   "metadata": {},
   "outputs": [],
   "source": [
    "panelA = Table03.create_panelA(ratio_dataset, macro_dataset)\n",
    "panelA"
   ]
  },
  {
   "cell_type": "code",
   "execution_count": null,
   "id": "37dc6f50",
   "metadata": {},
   "outputs": [],
   "source": [
    "panelA = Table03.create_panelA(ratio_dataset, macro_dataset)\n",
    "panelA"
   ]
  },
  {
   "cell_type": "code",
   "execution_count": null,
   "id": "5fc3ae6a",
   "metadata": {},
   "outputs": [],
   "source": [
    "panelB = Table03.create_panelB(factors_dataset, macro_dataset)\n",
    "panelB"
   ]
  },
  {
   "cell_type": "code",
   "execution_count": null,
   "id": "1b5ea7ca",
   "metadata": {},
   "outputs": [],
   "source": [
    "panelB = Table03.create_panelB(factors_dataset, macro_dataset)\n",
    "panelB"
   ]
  },
  {
   "cell_type": "markdown",
   "id": "2e02a12e",
   "metadata": {},
   "source": [
    "#### 3.5 Calculate correlations\n",
    "- Correlation matrices for Panel A and Panel B are calculated to examine the relationships between financial ratios, macroeconomic variables, and factors. "
   ]
  },
  {
   "cell_type": "code",
   "execution_count": null,
   "id": "c545ffe7",
   "metadata": {},
   "outputs": [],
   "source": [
    "import importlib\n",
    "\n",
    "importlib.reload(Table03) \n"
   ]
  },
  {
   "cell_type": "code",
   "execution_count": null,
   "id": "5e7cced1",
   "metadata": {},
   "outputs": [],
   "source": [
    "correlation_panelA = Table03.calculate_correlation_panelA(panelA)\n",
    "correlation_panelA"
   ]
  },
  {
   "cell_type": "code",
   "execution_count": null,
   "id": "d6e6741d",
   "metadata": {},
   "outputs": [],
   "source": [
    "correlation_panelA = Table03.calculate_correlation_panelA(panelA,UPDATED=True)\n",
    "correlation_panelA"
   ]
  },
  {
   "cell_type": "code",
   "execution_count": null,
   "id": "9da1f235",
   "metadata": {},
   "outputs": [],
   "source": [
    "correlation_panelB = Table03.calculate_correlation_panelB(panelB)\n",
    "correlation_panelB"
   ]
  },
  {
   "cell_type": "code",
   "execution_count": null,
   "id": "33016d1d",
   "metadata": {},
   "outputs": [],
   "source": [
    "correlation_panelB = Table03.calculate_correlation_panelB(panelB,UPDATED=True)\n",
    "correlation_panelB"
   ]
  },
  {
   "cell_type": "code",
   "execution_count": null,
   "id": "0b5eb179",
   "metadata": {},
   "outputs": [],
   "source": [
    "import importlib\n",
    "\n",
    "importlib.reload(Table03Analysis) "
   ]
  },
  {
   "cell_type": "code",
   "execution_count": null,
   "id": "dc81edee",
   "metadata": {},
   "outputs": [],
   "source": [
    "Table03Analysis.plot_figure02(ratio_dataset, correlation_panelA, UPDATED=False)"
   ]
  },
  {
   "cell_type": "markdown",
   "id": "688921df",
   "metadata": {},
   "source": [
    "#### 3.6 Generate summary outputs and export to LaTeX\n",
    "- We summarize our findings into tables for Panel A and B, alongside a figure that illustrates how the capital ratios have shifted over time. All time-series are standardized to zero mean and unit variance for illustration. \n",
    "- Lastly, we get our final table which was what we were trying to replicate from the original paper. This table is converted to LaTeX and outputted to a .tex file.\n",
    "- Below is the figure that we created with UPDATED=True which incorporates the most recent data (also incorporating data starting from 2013). This can be compared with the 'AEM_level.png' from the authors' presentation slides."
   ]
  },
  {
   "cell_type": "code",
   "execution_count": null,
   "id": "a3dc51fc",
   "metadata": {},
   "outputs": [],
   "source": [
    "from IPython.display import Image\n",
    "Image(filename='../_output/updated_table03_figure.png', width=800)"
   ]
  }
 ],
 "metadata": {
  "kernelspec": {
   "display_name": "base",
   "language": "python",
   "name": "python3"
  },
  "language_info": {
   "codemirror_mode": {
    "name": "ipython",
    "version": 3
   },
   "file_extension": ".py",
   "mimetype": "text/x-python",
   "name": "python",
   "nbconvert_exporter": "python",
   "pygments_lexer": "ipython3",
   "version": "3.12.7"
  }
 },
 "nbformat": 4,
 "nbformat_minor": 5
}
